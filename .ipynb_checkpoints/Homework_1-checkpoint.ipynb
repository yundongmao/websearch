{
 "cells": [
  {
   "cell_type": "markdown",
   "metadata": {},
   "source": [
    "# Homework 1: Preprocessing and Text Classification"
   ]
  },
  {
   "cell_type": "markdown",
   "metadata": {
    "collapsed": true
   },
   "source": [
    "Student Name:Mao Yundong\n",
    "\n",
    "Student ID:882542\n",
    "\n",
    "Python version used:2.7.13"
   ]
  },
  {
   "cell_type": "markdown",
   "metadata": {},
   "source": [
    "## General info"
   ]
  },
  {
   "cell_type": "markdown",
   "metadata": {},
   "source": [
    "<b>Due date</b>: 11pm, Sunday March 18th\n",
    "\n",
    "<b>Submission method</b>: see LMS\n",
    "\n",
    "<b>Submission materials</b>: completed copy of this iPython notebook\n",
    "\n",
    "<b>Late submissions</b>: -20% per day\n",
    "\n",
    "<b>Marks</b>: 5% of mark for class\n",
    "\n",
    "<b>Overview</b>: In this homework, you'll be using a corpus of tweets to do tokenisation of hashtags and build polarity classifers using bag of word (BOW) features.\n",
    "\n",
    "<b>Materials</b>: See the main class LMS page for information on the basic setup required for this class, including an iPython notebook viewer and the python packages NLTK, Numpy, Scipy, Matplotlib, Scikit-Learn, and Gensim. In particular, if you are not using a lab computer which already has it installed, we recommend installing all the data for NLTK, since you will need various parts of it to complete this assignment. You can also use any Python built-in packages, but do not use any other 3rd party packages (the packages listed above are all fine to use); if your iPython notebook doesn't run on the marker's machine, you will lose marks.  \n",
    "\n",
    "<b>Evaluation</b>: Your iPython notebook should run end-to-end without any errors in a few minutes, and you must follow all instructions provided below, including specific implementation requirements and instructions for what needs to be printed (please avoid printing output we don't ask for). The amount each section is worth is given in parenthesis after the instructions. You will be marked not only on the correctness of your methods, but also the quality and efficency of your code: in particular, you should be careful to use Python built-in functions and operators when appropriate and pick descriptive variable names that adhere to <a href=\"https://www.python.org/dev/peps/pep-0008/\">Python style requirements</a>. If you think it might be unclear what you are doing, you should comment your code to help the marker make sense of it.\n",
    "\n",
    "<b>Extra credit</b>: Each homework has a task which is optional with respect to getting full marks on the assignment, but that can be used to offset any points lost on this or any other homework assignment (but not the final project or the exam). We recommend you skip over this step on your first pass, and come back if you have time: the amount of effort required to receive full marks (1 point) on an extra credit question will be substantially more than earning the same amount of credit on other parts of the homework.\n",
    "\n",
    "<b>Updates</b>: Any major changes to the assignment will be announced via LMS. Minor changes and clarifications will be announced in the forum on LMS, we recommend you check the forum regularly.\n",
    "\n",
    "<b>Academic Misconduct</b>: For most people, collaboration will form a natural part of the undertaking of this homework, and we encourge you to discuss it in general terms with other students. However, this ultimately is still an individual task, and so reuse of code or other instances of clear influence will be considered cheating. We will be checking submissions for originality and will invoke the University’s <a href=\"http://academichonesty.unimelb.edu.au/policy.html\">Academic Misconduct policy</a> where inappropriate levels of collusion or plagiarism are deemed to have taken place.\n"
   ]
  },
  {
   "cell_type": "markdown",
   "metadata": {},
   "source": [
    "## Preprocessing"
   ]
  },
  {
   "cell_type": "markdown",
   "metadata": {
    "collapsed": true
   },
   "source": [
    "<b>Instructions</b>: For this homework we will be using the tweets in the <i>twitter_samples</i> corpus included with NLTK. You should start by accessing these tweets. Use the <i>strings</i> method included in the NLTK corpus reader for <i>twitter_samples</i> to access the tweets (as raw strings). Iterate over the full corpus, and print out the average length, in characters, of the tweets in the corpus. (0.5)\n"
   ]
  },
  {
   "cell_type": "code",
   "execution_count": 10,
   "metadata": {},
   "outputs": [
    {
     "name": "stdout",
     "output_type": "stream",
     "text": [
      "103.887266667\n"
     ]
    }
   ],
   "source": [
    "import nltk\n",
    "from nltk.corpus import twitter_samples\n",
    "temp = twitter_samples.strings()\n",
    "print sum([len(x) for x in temp]) /float(len(temp))"
   ]
  },
  {
   "cell_type": "markdown",
   "metadata": {},
   "source": [
    "<b>Instructions</b>: Hashtags (i.e. topic tags which start with #) pose an interesting tokenisation problem because they often include multiple words written without spaces or capitalization. You should use a regular expression to extract all hashtags of length 8 or longer which consist only of lower case letters (other than the # at the beginning, of course, though this should be stripped off as part of the extraction process). Do <b>not</b> tokenise the entire tweet as part of this process. The hashtag might occur at the beginning or the end of the tweet; you should double-check that you aren't missing any. After you have collected them into a list, print out number of hashtags you have collected: for full credit, you must get the exact number that we expect.  (1.0)"
   ]
  },
  {
   "cell_type": "code",
   "execution_count": 29,
   "metadata": {},
   "outputs": [
    {
     "name": "stdout",
     "output_type": "stream",
     "text": [
      "1411\n"
     ]
    }
   ],
   "source": [
    "import re\n",
    "# listTag = [tag for str in temp for tag in re.findall(\"#[a-z]{8,}\",str)]\n",
    "pattern =re.compile(r\"(?:\\s|^)(#[a-z]{8,})(?:\\s|$)\")\n",
    "listTag = []\n",
    "for strl in temp:\n",
    "    i = 0\n",
    "    while i< len(strl):\n",
    "        ttemp = pattern.search(strl,i)\n",
    "        if ttemp:\n",
    "            listTag.append(ttemp.group(1))\n",
    "            i = ttemp.start()+2\n",
    "        else:\n",
    "            break\n",
    "print len(listTag)\n",
    "# print listTag\n",
    "\n",
    "\n"
   ]
  },
  {
   "cell_type": "markdown",
   "metadata": {},
   "source": [
    "<b>Instructions</b>: Now, tokenise the hashtags you've collected. To do this, you should implement a reversed version of the MaxMatch algorithm discussed in class (and in the reading), where matching begins at the end of the hashtag and progresses backwards. NLTK has a list of words that you can use for matching, see starter code below. Be careful about efficiency with respect to doing word lookups. One extra challenge you have to deal with is that the provided list of words includes only lemmas: your MaxMatch algorithm should match inflected forms by converting them into lemmas using the NLTK lemmatiser before matching. Note that the list of words is incomplete, and, if you are unable to make any longer match, your code should default to matching a single letter. Create a new list of tokenised hashtags (this should be a list of lists of strings) and use slicing to print out the last 20 hashtags in the list. (1.0)"
   ]
  },
  {
   "cell_type": "code",
   "execution_count": 31,
   "metadata": {
    "scrolled": true
   },
   "outputs": [
    {
     "name": "stdout",
     "output_type": "stream",
     "text": [
      "[[u'leaders', u'debate'], [u'wow', u'campaign'], [u'social', u'security'], [u'tory', u'lies'], [u'election'], [u'biased', u'b', u'b', u'c'], [u'labour', u'doorstep'], [u'biased', u'b', u'b', u'c'], [u'li', u'blab', u'con'], [u'b', u'b', u'c', u'debate'], [u'mi', u'li', u'fandom'], [u'u', u'k', u'parliament'], [u'bedroom', u'tax'], [u'disability'], [u'canna', u'bis'], [u'vote', u'green'], [u'l', u'lan', u'el', u'li', u'h', u'u', u'stings'], [u'bedroom', u'tax'], [u'disability'], [u'bankrupt']]\n"
     ]
    }
   ],
   "source": [
    "from nltk.stem import WordNetLemmatizer\n",
    "words = nltk.corpus.words.words() # words is a Python list\n",
    "def backward(words,listTag):\n",
    "    lemmatizer = WordNetLemmatizer()\n",
    "    result = []\n",
    "    words = set(words)\n",
    "    \n",
    "#     print lemmatizer.lemmatize(tempword,\"r\")\n",
    "#     print lemmatizer.lemmatize(\"bis\")\n",
    "    for tag in listTag:\n",
    "        i, start = 1, len(tag)-1\n",
    "        tags = []\n",
    "        while start > 0:\n",
    "            temp = tag[i:start+1]\n",
    "            tempword = tag[i:start+1]\n",
    "            if temp in words:\n",
    "                tags.append(temp)\n",
    "                start = i-1\n",
    "                i = 1\n",
    "                continue\n",
    "            temp = lemmatizer.lemmatize(tempword)\n",
    "            if temp in words:\n",
    "                tags.append(tempword)\n",
    "                start = i-1\n",
    "                i = 1\n",
    "                continue\n",
    "            temp = lemmatizer.lemmatize(tempword,\"v\")\n",
    "            if temp in words:\n",
    "                tags.append(tempword)\n",
    "                start = i-1\n",
    "                i = 1\n",
    "            else:\n",
    "                if i == start:\n",
    "                    tags.append(tempword)\n",
    "                    start = i -1\n",
    "                    i = 1\n",
    "                else:\n",
    "                    i +=1\n",
    "            \n",
    "            \n",
    "        tags.reverse()\n",
    "        result.append(tags)\n",
    "    return result\n",
    "\n",
    "listTags =  backward(words,listTag)\n",
    "print listTags[-20:]"
   ]
  },
  {
   "cell_type": "markdown",
   "metadata": {},
   "source": [
    "### Extra Credit (Optional)\n",
    "<b>Instructions</b>: Implement the forward version of the MaxMatch algorithm as well, and print out all the hashtags which give different results for the two versions of MaxMatch. Your main task is to come up with a good way to select which of the two segmentations is better for any given case, and demonstrate that it works significantly better than using a single version of the algorithm for all hashtags. (1.0)"
   ]
  },
  {
   "cell_type": "code",
   "execution_count": 45,
   "metadata": {},
   "outputs": [
    {
     "name": "stdout",
     "output_type": "stream",
     "text": [
      "487\n",
      "[u'athabasca', u'explorealberta', u'batalladelosgallos', u'webcamsex', u'instagram', u'addmeonsnapchat', u'kiksexting', u'orcalove', u'fresherstofinals', u'zayniscomingback', u'kiksexting', u'giachietittiwedding', u'igersoftheday', u'anywayhedidanicejob', u'bestoftheday', u'sabadodeganarseguidores', u'feelslikeanidiot', u'matteroftheheart', u'hotfmnoaidilforariana', u'hannibal', u'addmeonsnapchat', u'premiostumundo', u'ausfailia', u'kiksexting', u'stafford', u'wewanticecream', u'feelgoodfriday', u'phandroid', u'sexysasunday', u'zayniscomingback', u'kikmenow', u'sabadodeganarseguidores', u'cyclerevolution', u'bestoftheday', u'bestoftheday', u'sexysasunday', u'selfshot', u'whereisthesun', u'summerismissing', u'zayniscomingback', u'kikmenow', u'indiemusic', u'selfshot', u'elfindelmundo', u'webcamsex', u'mybrainneedstoshutoff', u'deathbybaconsmell', u'imintoher', u'photooftheday', u'indiemusic', u'indiemusic', u'indiemusic', u'indiemusic', u'indiemusic', u'hannibal', u'hotfmnoaidilforariana', u'photooftheday', u'indiemusic', u'justgotkanekified', u'indiemusic', u'indiemusic', u'kikmenow', u'kikmenow', u'louisiana', u'indiemusic', u'docopenhagen', u'phonesex', u'kikkomansabor', u'kikmenow', u'webcamsex', u'kiksexting', u'brasileirao', u'batalladelosgallos', u'givecodpieceachance', u'kikmenow', u'kikmenow', u'hannibal', u'kiksexting', u'kiksexting', u'hotmusicdelocos', u'thestruggleisreal', u'bbloggers', u'hotmusicdelocos', u'webcamsex', u'premiostumundo', u'sheskindahot', u'phonesex', u'kikmenow', u'brasileirao', u'viernesderolenahot', u'kikmenow', u'elfindelmundo', u'sextaatequemfimseguesdvcomvalentino', u'failsatlife', u'yogyakarta', u'yogyakarta', u'yaytheylookgreat', u'kikmenow', u'mypapamypride', u'quacketyquack', u'fahrinahmad', u'tengkuaaronshah', u'haveagoodday', u'supersmash', u'hotnsexy', u'friskyfriday', u'disneyinfinity', u'penacova', u'latinhouse', u'photooftheday', u'sheskindahot', u'foiegras', u'journorequest', u'gottolovebanks', u'quacketyquack', u'toptravelcentar', u'lbloggers', u'pbloggers', u'addmeonbbm', u'scotlandismassive', u'kiksexting', u'kikmenow', u'kikkomansabor', u'kiksexting', u'kiksexting', u'takesonetoknowone', u'bemecode', u'proudtobeme', u'elfindelmundo', u'tracerequest', u'sabadodeganarseguidores', u'sexysasunday', u'quacketyquack', u'hannibal', u'phonesex', u'fridayfun', u'ejayster', u'wordoftheweek', u'freebiefriday', u'ineedfeminismbecause', u'rudramadevi', u'lovesummertime', u'telecoms', u'fridayfeeling', u'foiegras', u'favourites', u'telecoms', u'realoshi', u'dealsuthaonotebachao', u'bindingofissac', u'hotmusicdelocos', u'superheroes', u'scififan', u'liveonstreamate', u'bowwowchicawowwow', u'quacketyquack', u'nikeindonesia', u'itsamarvelthing', u'thegrandad', u'fridayfeeling', u'kiksexting', u'indiemusic', u'indiemusic', u'sunnyday', u'quacketyquack', u'vscogood', u'vscophil', u'vscocousins', u'horseracing', u'horseracingtips', u'premiostumundo', u'kikkomansabor', u'photooftheday', u'indiemusic', u'localgaragederby', u'keepitlocal', u'keepitlocal', u'quacketyquack', u'instagood', u'photooftheday', u'videographer', u'prosecco', u'slovenia', u'tellanoldjokeday', u'bestoftheday', u'premiostumundo', u'yogyakarta', u'walangmakakapigilsakin', u'healthylifestyle', u'addmeonsnapchat', u'kikmenow', u'sexysaturday', u'kiksexting', u'indiemusic', u'extremesports', u'bloggersrequired', u'bloggerswanted', u'ashramcalling', u'niteflirt', u'nomnomnom', u'wuppertal', u'instagood', u'sexysasunday', u'indiemusic', u'friskyfiday', u'quacketyquack', u'messengerforaday', u'singapore', u'yourewelcome', u'hindugod', u'gamedesign', u'indiedev', u'melbourneburgers', u'londoutrading', u'instagram', u'maritimenation', u'theworldwouldchange', u'zorroreturms', u'hugahusky', u'davidcamerontweet', u'greatstorm', u'alexsalmond', u'scottishlabour', u'milistumble', u'rudemanslapdown', u'allinittogether', u'millibrandcuts', u'antaghadh', u'millibrandcuts', u'votelabourorelse', u'llanellihustings', u'asknicolasturgeon', u'edmiliband', u'miliband', u'grantshapps', u'miliband', u'saysitall', u'edmiliband', u'miliband', u'milliband', u'milimadness', u'towakana', u'milimadness', u'scottishlabour', u'levenson', u'milibrandcuts', u'wearealldoomed', u'milibrandcuts', u'farageical', u'alexsalmond', u'doubleeuropeantrouble', u'milibrandcuts', u'millibrand', u'libdemproblems', u'alexsalmond', u'millibrandcuts', u'alexsalmond', u'milimadness', u'milibrand', u'millibrandcuts', u'libdemproblems', u'mponatrain', u'millibrandcuts', u'wearealldoomed', u'nickrobinson', u'rulebritannia', u'welcometoessex', u'bairnsnotbombs', u'wearealldoomed', u'cameronettes', u'wearealldoomed', u'nickrobinson', u'milibrandcuts', u'alexsalmond', u'catchingup', u'nickrobinson', u'millibrandcuts', u'miliband', u'retweetandfollowme', u'bairnsnotbombs', u'milibrandcuts', u'justsayin', u'alexsalmond', u'immigrantsolution', u'scotland', u'startups', u'askfarage', u'askformoney', u'libdemproblems', u'mponatrain', u'llanellihustings', u'votesnpgetsexy', u'justsayin', u'hypnotoad', u'hypnotoad', u'paedobritain', u'paedobritain', u'paedobritain', u'paedobritain', u'scottishlabour', u'millibrandcuts', u'dontvoteukip', u'milifandom', u'miliband', u'noideawhatimdoing', u'hardestchallenge', u'mightofgottenchampange', u'messeswithmyhead', u'libdemproblems', u'nickclegg', u'isitright', u'lanarkhustings', u'workingclasstory', u'libdemproblems', u'llanellihustings', u'rulebritannia', u'useyoursense', u'nerdlover', u'lanarkhustings', u'milifandom', u'milifandom', u'askfarage', u'voteukip', u'youreapwhatyousow', u'cloudcookoo', u'badgersculltories', u'bairnsnotbombs', u'weareonthesamesidegetridofcameron', u'askfarage', u'organisedcrime', u'bbcelection', u'llanellihustings', u'faragefail', u'voteukip', u'askfarage', u'sturwars', u'milifandom', u'bluetintedspecs', u'stumblegate', u'llanellihustings', u'asknicolasturgeon', u'faragefail', u'watkiestnl', u'scottishlabour', u'askfarage', u'toriemanifesto', u'ownedbythenortherners', u'asknigelfarge', u'manchester', u'immigrationuk', u'greensurge', u'voteukip', u'gettothepoint', u'horribleman', u'horribleman', u'asknigel', u'miliband', u'horribleman', u'milliband', u'hypocracy', u'libdemproblems', u'nickclegg', u'libdemproblems', u'mponatrain', u'electiondebat', u'asknigelfarage', u'milifandom', u'milifandom', u'scotland', u'milifandom', u'justsayin', u'stumblegate', u'edmilliband', u'milliband', u'scottishlabour', u'hovehustings', u'justiceforabusedchildren', u'nigelfarage', u'jihadijohn', u'jihadibrides', u'blindside', u'milifandom', u'horribleman', u'llanellihustings', u'generalelection', u'frenchgate', u'llanellihustings', u'miliband', u'congrats', u'milifandom', u'stalbert', u'milifandom', u'organised', u'voteukip', u'takingjobsoffbritishpeople', u'milifandom', u'scotland', u'sinnfein', u'margarethodge', u'scottishlabour', u'askfarage', u'liarliarpantsonfire', u'ohbrotherwhereartthou', u'stopukip', u'wearealldoomed', u'askfarage', u'milifandom', u'voteukip', u'llanellihustings', u'scotland', u'nigelfarage', u'nigelfarage', u'milifandom', u'cleggers', u'sinnfein', u'miliband', u'horribleman', u'fracking', u'stumblegate', u'asknigelfarage', u'generalelection', u'llanellihustings', u'votingsystemturnoff', u'poorshow', u'sadmanonatrain', u'socialsecurity', u'asknigelfarage', u'milifandom', u'poorshow', u'blogpornstar', u'miliband', u'asknigelfarage', u'generalelection', u'sherlockholmesincarnate', u'asknigelfarage', u'nomneyleft', u'gettothepoint', u'poorshow', u'justnotuptoit', u'deffonotpc', u'scotland', u'milifandom', u'generalelection', u'miliband', u'generalelection', u'venezuela', u'noshitsherlock', u'venezuela', u'evenworsethankayburley', u'deathoflabour', u'tooclosetocall', u'stumblegate', u'qferanews', u'asknicolasturgeon', u'asknigelfarage', u'manontheleft', u'miliband', u'nomorelies', u'nomorelies', u'teaparty', u'uniteright', u'milifandom', u'evenworsethankayburley', u'nomorelies', u'scotland', u'likeyoudontevenwantit', u'thereisnoescape', u'evenworsethankayburley', u'miliband', u'allinittogether', u'voteukip', u'jogonjim', u'miliband', u'stumblegate', u'stumblegate', u'nomorelies', u'generalelection', u'askfarage', u'noticias', u'miliband', u'chamalieres', u'chamalieres', u'davidnaghi', u'miliband', u'socialsecurity', u'milifandom', u'llanellihustings']\n",
      "my result for different tag result ----------------------------------------\n",
      "---------------------------------------------------------------------------\n",
      "[[u'a', u'th', u'abas', u'ca'], [u'explore', u'albe', u'r', u'ta'], [u'ba', u'tal', u'lad', u'el', u'os', u'gall', u'os'], [u'web', u'cam', u'sex'], [u'ins', u'ta', u'gram'], [u'add', u'm', u'eon', u'snap', u'chat'], [u'k', u'i', u'k', u'sex', u'ting'], [u'or', u'ca', u'love'], [u'fresh', u'ers', u'to', u'finals'], [u'z', u'ay', u'nis', u'coming', u'back'], [u'k', u'i', u'k', u'sex', u'ting'], [u'g', u'i', u'ach', u'ie', u'tit', u'ti', u'wedding'], [u'i', u'gers', u'of', u'the', u'day'], [u'anyway', u'he', u'di', u'da', u'nice', u'job'], [u'be', u'stof', u'the', u'day'], [u'sa', u'bad', u'ode', u'ga', u'nar', u'seg', u'u', u'id', u'ores'], [u'feels', u'li', u'k', u'ean', u'idiot'], [u'matter', u'of', u'the', u'heart'], [u'hot', u'f', u'm', u'noa', u'id', u'i', u'l', u'fora', u'ria', u'na'], [u'han', u'ni', u'bal'], [u'add', u'm', u'eon', u'snap', u'chat'], [u'p', u'r', u'em', u'io', u'stum', u'undo'], [u'a', u'us', u'fa', u'ilia'], [u'k', u'i', u'k', u'sex', u'ting'], [u'st', u'afford'], [u'we', u'wan', u'tice', u'cream'], [u'feel', u'good', u'f', u'rid', u'ay'], [u'p', u'h', u'android'], [u'sexy', u'sa', u'sun', u'day'], [u'z', u'ay', u'nis', u'coming', u'back'], [u'k', u'i', u'k', u'm', u'enow'], [u'sa', u'bad', u'ode', u'ga', u'nar', u'seg', u'u', u'id', u'ores'], [u'cycle', u'revolution'], [u'be', u'stof', u'the', u'day'], [u'be', u'stof', u'the', u'day'], [u'sexy', u'sa', u'sun', u'day'], [u'self', u'shot'], [u'where', u'ist', u'hes', u'un'], [u'summer', u'is', u'missing'], [u'z', u'ay', u'nis', u'coming', u'back'], [u'k', u'i', u'k', u'm', u'enow'], [u'in', u'die', u'music'], [u'self', u'shot'], [u'el', u'find', u'elm', u'undo'], [u'web', u'cam', u'sex'], [u'my', u'brain', u'needs', u'to', u'shutoff'], [u'death', u'by', u'bacon', u'smell'], [u'i', u'min', u'toher'], [u'photo', u'of', u'the', u'day'], [u'in', u'die', u'music'], [u'in', u'die', u'music'], [u'in', u'die', u'music'], [u'in', u'die', u'music'], [u'in', u'die', u'music'], [u'han', u'ni', u'bal'], [u'hot', u'f', u'm', u'noa', u'id', u'i', u'l', u'fora', u'ria', u'na'], [u'photo', u'of', u'the', u'day'], [u'in', u'die', u'music'], [u'just', u'got', u'ka', u'ne', u'k', u'i', u'fie', u'd'], [u'in', u'die', u'music'], [u'in', u'die', u'music'], [u'k', u'i', u'k', u'm', u'enow'], [u'k', u'i', u'k', u'm', u'enow'], [u'lo', u'u', u'i', u'si', u'ana'], [u'in', u'die', u'music'], [u'do', u'copen', u'h', u'agen'], [u'phone', u'sex'], [u'k', u'i', u'k', u'k', u'om', u'ansa', u'bor'], [u'k', u'i', u'k', u'm', u'enow'], [u'web', u'cam', u'sex'], [u'k', u'i', u'k', u'sex', u'ting'], [u'bra', u'si', u'lei', u'ra', u'o'], [u'ba', u'tal', u'lad', u'el', u'os', u'gall', u'os'], [u'give', u'codpiece', u'ach', u'an', u'ce'], [u'k', u'i', u'k', u'm', u'enow'], [u'k', u'i', u'k', u'm', u'enow'], [u'han', u'ni', u'bal'], [u'k', u'i', u'k', u'sex', u'ting'], [u'k', u'i', u'k', u'sex', u'ting'], [u'hot', u'music', u'de', u'lo', u'cos'], [u'the', u'struggle', u'is', u'real'], [u'b', u'b', u'loggers'], [u'hot', u'music', u'de', u'lo', u'cos'], [u'web', u'cam', u'sex'], [u'p', u'r', u'em', u'io', u'stum', u'undo'], [u'she', u'skin', u'da', u'hot'], [u'phone', u'sex'], [u'k', u'i', u'k', u'm', u'enow'], [u'bra', u'si', u'lei', u'ra', u'o'], [u'vier', u'nes', u'de', u'role', u'na', u'hot'], [u'k', u'i', u'k', u'm', u'enow'], [u'el', u'find', u'elm', u'undo'], [u'sext', u'aa', u'te', u'q', u'u', u'em', u'fi', u'ms', u'e', u'gue', u's', u'd', u'v', u'c', u'om', u'valent', u'in', u'o'], [u'fail', u'sat', u'life'], [u'yo', u'g', u'yak', u'ar', u'ta'], [u'yo', u'g', u'yak', u'ar', u'ta'], [u'y', u'ay', u'they', u'look', u'great'], [u'k', u'i', u'k', u'm', u'enow'], [u'my', u'pap', u'amy', u'pride'], [u'qua', u'c', u'ket', u'y', u'quack'], [u'f', u'ah', u'r', u'in', u'ah', u'mad'], [u'teng', u'k', u'u', u'a', u'ar', u'on', u'shah'], [u'have', u'ago', u'odd', u'ay'], [u'super', u'smash'], [u'hot', u'n', u'sexy'], [u'frisky', u'f', u'rid', u'ay'], [u'dis', u'n', u'ey', u'infinity'], [u'pen', u'a', u'c', u'ova'], [u'la', u'tinhouse'], [u'photo', u'of', u'the', u'day'], [u'she', u'skin', u'da', u'hot'], [u'f', u'o', u'ie', u'g', u'ras'], [u'j', u'our', u'no', u'request'], [u'g', u'otto', u'love', u'banks'], [u'qua', u'c', u'ket', u'y', u'quack'], [u'top', u'travel', u'cent', u'ar'], [u'l', u'b', u'loggers'], [u'p', u'b', u'loggers'], [u'add', u'm', u'eon', u'b', u'b', u'm'], [u'scot', u'lan', u'dis', u'massive'], [u'k', u'i', u'k', u'sex', u'ting'], [u'k', u'i', u'k', u'm', u'enow'], [u'k', u'i', u'k', u'k', u'om', u'ansa', u'bor'], [u'k', u'i', u'k', u'sex', u'ting'], [u'k', u'i', u'k', u'sex', u'ting'], [u'takes', u'one', u'to', u'know', u'one'], [u'b', u'eme', u'code'], [u'p', u'roud', u'to', u'b', u'eme'], [u'el', u'find', u'elm', u'undo'], [u'trace', u'request'], [u'sa', u'bad', u'ode', u'ga', u'nar', u'seg', u'u', u'id', u'ores'], [u'sexy', u'sa', u'sun', u'day'], [u'qua', u'c', u'ket', u'y', u'quack'], [u'han', u'ni', u'bal'], [u'phone', u'sex'], [u'f', u'rid', u'ay', u'fun'], [u'e', u'jay', u'st', u'er'], [u'word', u'of', u'the', u'week'], [u'free', u'b', u'ie', u'f', u'rid', u'ay'], [u'i', u'need', u'feminism', u'because'], [u'r', u'u', u'drama', u'dev', u'i'], [u'love', u'summertime'], [u'tele', u'c', u'o', u'ms'], [u'f', u'rid', u'ay', u'feeling'], [u'f', u'o', u'ie', u'g', u'ras'], [u'f', u'avo', u'u', u'rites'], [u'tele', u'c', u'o', u'ms'], [u're', u'alo', u'shi'], [u'deals', u'ut', u'hao', u'note', u'ba', u'chao'], [u'binding', u'of', u'is', u'sac'], [u'hot', u'music', u'de', u'lo', u'cos'], [u'super', u'heroes'], [u's', u'c', u'i', u'fi', u'fan'], [u'live', u'ons', u't', u'ream', u'ate'], [u'bowwow', u'chi', u'ca', u'wow', u'wow'], [u'qua', u'c', u'ket', u'y', u'quack'], [u'ni', u'k', u'e', u'in', u'done', u'si', u'a'], [u'it', u'sa', u'marvel', u'thing'], [u'the', u'grand', u'ad'], [u'f', u'rid', u'ay', u'feeling'], [u'k', u'i', u'k', u'sex', u'ting'], [u'in', u'die', u'music'], [u'in', u'die', u'music'], [u'sunn', u'yday'], [u'qua', u'c', u'ket', u'y', u'quack'], [u'vs', u'c', u'o', u'good'], [u'vs', u'cop', u'hi', u'l'], [u'vs', u'c', u'o', u'cousins'], [u'horse', u'racing'], [u'horse', u'racing', u'tips'], [u'p', u'r', u'em', u'io', u'stum', u'undo'], [u'k', u'i', u'k', u'k', u'om', u'ansa', u'bor'], [u'photo', u'of', u'the', u'day'], [u'in', u'die', u'music'], [u'local', u'garage', u'derby'], [u'keep', u'it', u'local'], [u'keep', u'it', u'local'], [u'qua', u'c', u'ket', u'y', u'quack'], [u'ins', u'ta', u'good'], [u'photo', u'of', u'the', u'day'], [u'video', u'graph', u'er'], [u'pro', u'sec', u'c', u'o'], [u'sloven', u'i', u'a'], [u'tell', u'an', u'old', u'joked', u'ay'], [u'be', u'stof', u'the', u'day'], [u'p', u'r', u'em', u'io', u'stum', u'undo'], [u'yo', u'g', u'yak', u'ar', u'ta'], [u'w', u'alan', u'g', u'ma', u'kaka', u'pig', u'i', u'ls', u'akin'], [u'healthy', u'life', u'style'], [u'add', u'm', u'eon', u'snap', u'chat'], [u'k', u'i', u'k', u'm', u'enow'], [u'sexy', u'sa', u'tur', u'day'], [u'k', u'i', u'k', u'sex', u'ting'], [u'in', u'die', u'music'], [u'extreme', u'sports'], [u'b', u'loggers', u'required'], [u'b', u'loggers', u'wanted'], [u'a', u'shram', u'calling'], [u'ni', u'te', u'flirt'], [u'n', u'om', u'n', u'om', u'n', u'om'], [u'w', u'upper', u'tal'], [u'ins', u'ta', u'good'], [u'sexy', u'sa', u'sun', u'day'], [u'in', u'die', u'music'], [u'frisky', u'fi', u'day'], [u'qua', u'c', u'ket', u'y', u'quack'], [u'messenger', u'for', u'aday'], [u'sin', u'ga', u'pore'], [u'you', u'rewelcome'], [u'hind', u'u', u'god'], [u'game', u'design'], [u'in', u'die', u'dev'], [u'mel', u'bourn', u'e', u'burg', u'ers'], [u'l', u'on', u'do', u'u', u'trading'], [u'ins', u'ta', u'gram'], [u'maritime', u'nation'], [u'the', u'world', u'would', u'change'], [u'zorro', u'ret', u'ur', u'ms'], [u'hug', u'ahu', u'sky'], [u'd', u'avid', u'cam', u'er', u'on', u'tweet'], [u'great', u'storm'], [u'al', u'exs', u'almond'], [u'scot', u'ti', u'sh', u'labour'], [u'mi', u'li', u'stumble'], [u'rude', u'man', u'slap', u'down'], [u'al', u'li', u'nit', u'together'], [u'mil', u'li', u'brand', u'cuts'], [u'an', u'tag', u'had', u'h'], [u'mil', u'li', u'brand', u'cuts'], [u'vote', u'labour', u'or', u'else'], [u'l', u'lane', u'l', u'li', u'husting', u's'], [u'ask', u'ni', u'cola', u'sturgeon'], [u'e', u'd', u'mi', u'li', u'band'], [u'mi', u'li', u'band'], [u'grant', u'shap', u'ps'], [u'mi', u'li', u'band'], [u'say', u'si', u'tall'], [u'e', u'd', u'mi', u'li', u'band'], [u'mi', u'li', u'band'], [u'mil', u'li', u'band'], [u'mi', u'li', u'madness'], [u'to', u'wa', u'kana'], [u'mi', u'li', u'madness'], [u'scot', u'ti', u'sh', u'labour'], [u'l', u'even', u'son'], [u'mi', u'li', u'brand', u'cuts'], [u'we', u'are', u'all', u'doomed'], [u'mi', u'li', u'brand', u'cuts'], [u'fa', u'rage', u'i', u'cal'], [u'al', u'exs', u'almond'], [u'do', u'u', u'blee', u'ur', u'o', u'pean', u'trouble'], [u'mi', u'li', u'brand', u'cuts'], [u'mil', u'li', u'brand'], [u'li', u'b', u'd', u'em', u'problems'], [u'al', u'exs', u'almond'], [u'mil', u'li', u'brand', u'cuts'], [u'al', u'exs', u'almond'], [u'mi', u'li', u'madness'], [u'mi', u'li', u'brand'], [u'mil', u'li', u'brand', u'cuts'], [u'li', u'b', u'd', u'em', u'problems'], [u'm', u'p', u'ona', u'train'], [u'mil', u'li', u'brand', u'cuts'], [u'we', u'are', u'all', u'doomed'], [u'nick', u'robin', u'son'], [u'rule', u'brit', u'ann', u'i', u'a'], [u'welcome', u'toes', u'sex'], [u'bairn', u'snot', u'bombs'], [u'we', u'are', u'all', u'doomed'], [u'ca', u'mero', u'net', u'tes'], [u'we', u'are', u'all', u'doomed'], [u'nick', u'robin', u'son'], [u'mi', u'li', u'brand', u'cuts'], [u'al', u'exs', u'almond'], [u'catching', u'up'], [u'nick', u'robin', u'son'], [u'mil', u'li', u'brand', u'cuts'], [u'mi', u'li', u'band'], [u're', u'tweet', u'and', u'follow', u'me'], [u'bairn', u'snot', u'bombs'], [u'mi', u'li', u'brand', u'cuts'], [u'just', u'say', u'in'], [u'al', u'exs', u'almond'], [u'immigrant', u'solution'], [u's', u'cotland'], [u'star', u'tups'], [u'ask', u'fa', u'rage'], [u'ask', u'for', u'money'], [u'li', u'b', u'd', u'em', u'problems'], [u'm', u'p', u'ona', u'train'], [u'l', u'lane', u'l', u'li', u'husting', u's'], [u'votes', u'n', u'p', u'get', u'sexy'], [u'just', u'say', u'in'], [u'hyp', u'no', u'toad'], [u'hyp', u'no', u'toad'], [u'pa', u'e', u'dob', u'rita', u'in'], [u'pa', u'e', u'dob', u'rita', u'in'], [u'pa', u'e', u'dob', u'rita', u'in'], [u'pa', u'e', u'dob', u'rita', u'in'], [u'scot', u'ti', u'sh', u'labour'], [u'mil', u'li', u'brand', u'cuts'], [u'dont', u'vote', u'u', u'kip'], [u'mi', u'li', u'fandom'], [u'mi', u'li', u'band'], [u'no', u'idea', u'wha', u'ti', u'm', u'doing'], [u'h', u'ar', u'de', u'st', u'challenge'], [u'might', u'of', u'gotten', u'cham', u'pan', u'ge'], [u'messe', u'swith', u'my', u'head'], [u'li', u'b', u'd', u'em', u'problems'], [u'nick', u'cleg', u'g'], [u'i', u'sit', u'right'], [u'la', u'nar', u'khu', u'stings'], [u'working', u'class', u'tory'], [u'li', u'b', u'd', u'em', u'problems'], [u'l', u'lane', u'l', u'li', u'husting', u's'], [u'rule', u'brit', u'ann', u'i', u'a'], [u'use', u'your', u'sense'], [u'n', u'erd', u'lover'], [u'la', u'nar', u'khu', u'stings'], [u'mi', u'li', u'fandom'], [u'mi', u'li', u'fandom'], [u'ask', u'fa', u'rage'], [u'vote', u'u', u'kip'], [u'you', u'reap', u'what', u'you', u'sow'], [u'cloud', u'coo', u'ko', u'o'], [u'badger', u'scull', u'tories'], [u'bairn', u'snot', u'bombs'], [u'wear', u'eon', u'the', u'same', u'side', u'get', u'rid', u'of', u'cam', u'er', u'on'], [u'ask', u'fa', u'rage'], [u'or', u'g', u'anise', u'd', u'crime'], [u'b', u'b', u'c', u'election'], [u'l', u'lane', u'l', u'li', u'husting', u's'], [u'fa', u'rage', u'fail'], [u'vote', u'u', u'kip'], [u'ask', u'fa', u'rage'], [u's', u'tur', u'wars'], [u'mi', u'li', u'fandom'], [u'blue', u'tinted', u'specs'], [u'stumble', u'gate'], [u'l', u'lane', u'l', u'li', u'husting', u's'], [u'ask', u'ni', u'cola', u'sturgeon'], [u'fa', u'rage', u'fail'], [u'wat', u'k', u'ie', u'st', u'n', u'l'], [u'scot', u'ti', u'sh', u'labour'], [u'ask', u'fa', u'rage'], [u'to', u'rie', u'manifesto'], [u'owned', u'by', u'the', u'northerners'], [u'ask', u'ni', u'gel', u'far', u'ge'], [u'man', u'chester'], [u'immigration', u'u', u'k'], [u'green', u'surge'], [u'vote', u'u', u'kip'], [u'get', u'to', u'the', u'point'], [u'horrible', u'man'], [u'horrible', u'man'], [u'ask', u'ni', u'gel'], [u'mi', u'li', u'band'], [u'horrible', u'man'], [u'mil', u'li', u'band'], [u'hyp', u'ocracy'], [u'li', u'b', u'd', u'em', u'problems'], [u'nick', u'cleg', u'g'], [u'li', u'b', u'd', u'em', u'problems'], [u'm', u'p', u'ona', u'train'], [u'election', u'de', u'bat'], [u'ask', u'ni', u'gel', u'fa', u'rage'], [u'mi', u'li', u'fandom'], [u'mi', u'li', u'fandom'], [u's', u'cotland'], [u'mi', u'li', u'fandom'], [u'just', u'say', u'in'], [u'stumble', u'gate'], [u'e', u'd', u'mil', u'li', u'band'], [u'mil', u'li', u'band'], [u'scot', u'ti', u'sh', u'labour'], [u'hove', u'husting', u's'], [u'justice', u'for', u'abused', u'children'], [u'ni', u'gel', u'fa', u'rage'], [u'jihad', u'i', u'jo', u'h', u'n'], [u'jihad', u'i', u'brides'], [u'blind', u'side'], [u'mi', u'li', u'fandom'], [u'horrible', u'man'], [u'l', u'lane', u'l', u'li', u'husting', u's'], [u'general', u'election'], [u'f', u'r', u'en', u'c', u'h', u'gate'], [u'l', u'lane', u'l', u'li', u'husting', u's'], [u'mi', u'li', u'band'], [u'con', u'g', u'rats'], [u'mi', u'li', u'fandom'], [u's', u'tal', u'ber', u't'], [u'mi', u'li', u'fandom'], [u'or', u'g', u'anise', u'd'], [u'vote', u'u', u'kip'], [u'taking', u'jobs', u'off', u'brit', u'is', u'h', u'people'], [u'mi', u'li', u'fandom'], [u's', u'cotland'], [u's', u'inn', u'fe', u'in'], [u'mar', u'ga', u'ret', u'hod', u'ge'], [u'scot', u'ti', u'sh', u'labour'], [u'ask', u'fa', u'rage'], [u'liar', u'liar', u'pant', u'son', u'fire'], [u'oh', u'brother', u'where', u'art', u'thou'], [u'stop', u'u', u'kip'], [u'we', u'are', u'all', u'doomed'], [u'ask', u'fa', u'rage'], [u'mi', u'li', u'fandom'], [u'vote', u'u', u'kip'], [u'l', u'lane', u'l', u'li', u'husting', u's'], [u's', u'cotland'], [u'ni', u'gel', u'fa', u'rage'], [u'ni', u'gel', u'fa', u'rage'], [u'mi', u'li', u'fandom'], [u'cleg', u'gers'], [u's', u'inn', u'fe', u'in'], [u'mi', u'li', u'band'], [u'horrible', u'man'], [u'f', u'racking'], [u'stumble', u'gate'], [u'ask', u'ni', u'gel', u'fa', u'rage'], [u'general', u'election'], [u'l', u'lane', u'l', u'li', u'husting', u's'], [u'voting', u'system', u'turnoff'], [u'poor', u'show'], [u's', u'adman', u'ona', u'train'], [u'social', u'security'], [u'ask', u'ni', u'gel', u'fa', u'rage'], [u'mi', u'li', u'fandom'], [u'poor', u'show'], [u'b', u'log', u'p', u'or', u'n', u'star'], [u'mi', u'li', u'band'], [u'ask', u'ni', u'gel', u'fa', u'rage'], [u'general', u'election'], [u'sherlock', u'holm', u'es', u'incarnate'], [u'ask', u'ni', u'gel', u'fa', u'rage'], [u'n', u'om', u'n', u'ey', u'left'], [u'get', u'to', u'the', u'point'], [u'poor', u'show'], [u'just', u'no', u'tup', u'toit'], [u'de', u'f', u'fono', u't', u'p', u'c'], [u's', u'cotland'], [u'mi', u'li', u'fandom'], [u'general', u'election'], [u'mi', u'li', u'band'], [u'general', u'election'], [u'v', u'e', u'ne', u'z', u'u', u'e', u'la'], [u'nos', u'hit', u'sherlock'], [u'v', u'e', u'ne', u'z', u'u', u'e', u'la'], [u'even', u'worse', u'than', u'kay', u'bur', u'ley'], [u'death', u'of', u'labour'], [u'too', u'close', u'to', u'call'], [u'stumble', u'gate'], [u'q', u'f', u'era', u'news'], [u'ask', u'ni', u'cola', u'sturgeon'], [u'ask', u'ni', u'gel', u'fa', u'rage'], [u'm', u'anon', u'the', u'left'], [u'mi', u'li', u'band'], [u'no', u'mo', u'relies'], [u'no', u'mo', u'relies'], [u'tea', u'party'], [u'unite', u'right'], [u'mi', u'li', u'fandom'], [u'even', u'worse', u'than', u'kay', u'bur', u'ley'], [u'no', u'mo', u'relies'], [u's', u'cotland'], [u'like', u'you', u'dont', u'even', u'wan', u'tit'], [u'the', u'reis', u'no', u'escape'], [u'even', u'worse', u'than', u'kay', u'bur', u'ley'], [u'mi', u'li', u'band'], [u'al', u'li', u'nit', u'together'], [u'vote', u'u', u'kip'], [u'jo', u'gon', u'j', u'i', u'm'], [u'mi', u'li', u'band'], [u'stumble', u'gate'], [u'stumble', u'gate'], [u'no', u'mo', u'relies'], [u'general', u'election'], [u'ask', u'fa', u'rage'], [u'n', u'otic', u'i', u'as'], [u'mi', u'li', u'band'], [u'chamal', u'ie', u'res'], [u'chamal', u'ie', u'res'], [u'd', u'avid', u'nag', u'hi'], [u'mi', u'li', u'band'], [u'social', u'security'], [u'mi', u'li', u'fandom'], [u'l', u'lane', u'l', u'li', u'husting', u's']]\n"
     ]
    }
   ],
   "source": [
    "def forward(words,listTag):\n",
    "    words = set(words)\n",
    "    lemmatizer = WordNetLemmatizer()\n",
    "    result = []\n",
    "    for tag in listTag:\n",
    "        i,start = len(tag),1\n",
    "        tags = []\n",
    "        while start < len(tag):\n",
    "            tempword = tag[start:i]\n",
    "            temp = tempword\n",
    "            if temp in words:\n",
    "                tags.append(tempword)\n",
    "                start = i\n",
    "                i = len(tag)\n",
    "                continue\n",
    "            \n",
    "            temp = lemmatizer.lemmatize(tempword)\n",
    "            if temp in words:\n",
    "                tags.append(tempword)\n",
    "                start = i\n",
    "                i = len(tag)\n",
    "                continue\n",
    "                \n",
    "            temp = lemmatizer.lemmatize(tempword,\"v\")\n",
    "            if temp in words:\n",
    "                tags.append(tempword)\n",
    "                start = i\n",
    "                i = len(tag)\n",
    "                continue\n",
    "            else:\n",
    "                if i == start:\n",
    "                    tags.append(tempword)\n",
    "                    start = i+1\n",
    "                    i = len(tag)\n",
    "                else:\n",
    "                    i-=1\n",
    "        result.append(tags)\n",
    "    return result\n",
    "listTags1 = forward(words,listTag)\n",
    "listTags2 = backward(words,listTag)\n",
    "diff = []\n",
    "myResult = []\n",
    "for i in range(len(listTags1)):\n",
    "    if listTags1[i] != listTags2[i]:\n",
    "        diff.append(listTag[i][1:])\n",
    "        if len(listTags1[i]) < len(listTags2[i]):\n",
    "            myResult.append(listTags1[i])\n",
    "        else:\n",
    "            myResult.append(listTags2[i])\n",
    "print len(diff)\n",
    "print diff\n",
    "\n",
    "\n",
    "#choose the smallest split. \n",
    "#from the result, we know that because in english single alpha is not common, if the sentence contain less single word \n",
    "#may have a higher probility to be the true split. So the less you split the more accurate.\n",
    "print \"my result for different tag result ----------------------------------------\"\n",
    "print \"---------------------------------------------------------------------------\"\n",
    "print myResult\n",
    "\n",
    "\n",
    "\n"
   ]
  },
  {
   "cell_type": "markdown",
   "metadata": {},
   "source": [
    "## Text classification (Not Optional)"
   ]
  },
  {
   "cell_type": "markdown",
   "metadata": {},
   "source": [
    "<b>Instructions</b>: The twitter_sample corpus has two subcorpora corresponding to positive and negative tweets. You can access already tokenised versions using the <i> tokenized </i> method, as given in the code sample below. Iterate through these two corpora and build training, development, and test sets for use with Scikit-learn. You should exclude stopwords (from the built-in NLTK list) and tokens with non-alphabetic characters (this is very important you do this because emoticons were used to build the corpus, if you don't remove them performance will be artificially high). You should randomly split each subcorpus, using 80% of the tweets for training, 10% for development, and 10% for testing; make sure you do this <b>before</b> combining the tweets from the positive/negative subcorpora, so that the sets are <i>stratified</i>, i.e. the exact ratio of positive and negative tweets is preserved across the three sets. (1.0)"
   ]
  },
  {
   "cell_type": "code",
   "execution_count": 46,
   "metadata": {
    "scrolled": true
   },
   "outputs": [],
   "source": [
    "import nltk\n",
    "import random\n",
    "import numpy as np\n",
    "from nltk.corpus import stopwords\n",
    "from scipy.sparse import coo_matrix\n",
    "positive_tweets = nltk.corpus.twitter_samples.tokenized(\"positive_tweets.json\")\n",
    "negative_tweets = nltk.corpus.twitter_samples.tokenized(\"negative_tweets.json\")\n",
    "\n",
    "\n",
    "\n",
    "def removeStopWordsAndNoAlp(stopWords, ll, setAlp):\n",
    "    result = []\n",
    "    for l in ll:\n",
    "        temp = []\n",
    "        for str in l:\n",
    "            str = str.lower()\n",
    "            if str not in stopWords:\n",
    "                for c in str:\n",
    "                    if c not in setAlp:\n",
    "                        break\n",
    "                else:\n",
    "                    temp.append(str)\n",
    "        result.append(temp)\n",
    "    return result\n",
    "\n",
    "\n",
    "def splitList(ll,trainPer,developPer,testPer):\n",
    "    totalLength = len(ll)\n",
    "    s = set()\n",
    "    while len(s) < totalLength*(developPer+testPer):\n",
    "        s.add(random.randint(0, totalLength*100) % totalLength)\n",
    "    testL = []\n",
    "    templist = list(s)\n",
    "    for i in templist[:int(totalLength*testPer)]:\n",
    "        testL.append(ll[i])\n",
    "\n",
    "    developL = []\n",
    "    for i in templist[int(totalLength*testPer):]:\n",
    "        developL.append(ll[i])\n",
    "\n",
    "    trainL = []\n",
    "    for i in range(len(ll)):\n",
    "        if i not in s:\n",
    "            trainL.append(ll[i])\n",
    "    return trainL, developL, testL\n",
    "\n",
    "\n",
    "# from sklearn.model_selection._split import train_test_split\n",
    "# train_test_split()\n",
    "positive_tweets = nltk.corpus.twitter_samples.tokenized(\"positive_tweets.json\")\n",
    "negative_tweets = nltk.corpus.twitter_samples.tokenized(\"negative_tweets.json\")\n",
    "\n",
    "\n",
    "stopWords = set(stopwords.words('english'))\n",
    "# print stopWords\n",
    "setAlp = set(\"abcdefghijklmnopqrstuvwxyzABCDEFGHIJKLMNOPQRSTUVWXYZ\")\n",
    "positive_tweets = removeStopWordsAndNoAlp(stopWords,positive_tweets,setAlp)\n",
    "negative_tweets = removeStopWordsAndNoAlp(stopWords,negative_tweets,setAlp)\n",
    "feaM = {}\n",
    "count = 0\n",
    "for l in positive_tweets:\n",
    "    for word in l:\n",
    "        if word not in feaM:\n",
    "            feaM[word] = count\n",
    "            count+=1\n",
    "for l in negative_tweets:\n",
    "    for word in l:\n",
    "        if word not in feaM:\n",
    "            feaM[word] = count\n",
    "            count+=1\n",
    "feaNum = len(feaM.keys())\n",
    "trainPositive, developPositive,testPositive = splitList(positive_tweets,0.8,0.1,0.1)\n",
    "trainNegative, developNegative,testNegative = splitList(negative_tweets,0.8,0.1,0.1)\n",
    "\n",
    "def turnToSpaseMatrix(ll,feaM,feaNum):\n",
    "    row,column = [],[]\n",
    "    for i,l in enumerate(ll):\n",
    "        tempS = set()\n",
    "        for word in l:\n",
    "            if word not in tempS:\n",
    "                tempS.add(word)\n",
    "                column.append(feaM[word])\n",
    "        row.extend([i]*len(tempS))\n",
    "    data = [1]*len(row)\n",
    "    return coo_matrix((data,(row,column)),shape=(len(ll),feaNum))\n",
    "trainA = turnToSpaseMatrix(trainPositive+trainNegative,feaM,feaNum)\n",
    "developA = turnToSpaseMatrix(developPositive+developNegative,feaM,feaNum)\n",
    "testA = turnToSpaseMatrix(testPositive+testNegative,feaM,feaNum)"
   ]
  },
  {
   "cell_type": "markdown",
   "metadata": {},
   "source": [
    "<b>Instructions</b>: Now, let's build some classifiers. Here, we'll be comparing Naive Bayes and Logistic Regression. For each, you need to first find a good value for their main regularisation (hyper)parameters, which you should identify using the scikit-learn docs or other resources. Use the development set you created for this tuning process; do <b>not</b> use crossvalidation in the training set, or involve the test set in any way. You don't need to show all your work, but you do need to print out the accuracy with enough different settings to strongly suggest you have found an optimal or near-optimal choice. We should not need to look at your code to interpret the output. (1.0)"
   ]
  },
  {
   "cell_type": "code",
   "execution_count": 47,
   "metadata": {
    "scrolled": true
   },
   "outputs": [
    {
     "name": "stdout",
     "output_type": "stream",
     "text": [
      "For naive bayes alpha:\n",
      "   alpha    accuracy\n",
      "   0.1      0.744\n",
      "   0.2      0.745\n",
      "   0.3      0.751\n",
      "   0.4      0.749\n",
      "   0.5      0.752\n",
      "   0.6      0.753\n",
      "   0.7      0.752\n",
      "   0.8      0.752\n",
      "   0.9      0.754\n",
      "   1.0      0.753\n",
      "   1.1      0.752\n",
      "   1.2      0.752\n",
      "   1.3      0.753\n",
      "   1.4      0.753\n",
      "   1.5      0.755\n",
      "   1.6      0.754\n",
      "   1.7      0.751\n",
      "   1.8      0.752\n",
      "   1.9      0.752\n",
      "   2.0      0.751\n",
      "   -----------------\n",
      "   best alpha = 1.5\n",
      "\n",
      "For logistic regression intercept_scaling: \n",
      "   intercept_scaling       accuracy\n",
      "   2.0                      0.76\n",
      "   1.0                      0.76\n",
      "   0.5                      0.76\n",
      "   0.25                     0.76\n",
      "   0.125                    0.761\n",
      "   0.0625                   0.766\n",
      "   0.03125                  0.765\n",
      "   0.015625                 0.764\n",
      "   0.0078125                0.763\n",
      "   0.00390625               0.763\n",
      "   0.001953125              0.763\n",
      "   0.0009765625             0.763\n",
      "   0.00048828125            0.763\n",
      "   0.000244140625           0.763\n",
      "   0.0001220703125          0.763\n",
      "   6.103515625e-05          0.763\n",
      "   3.0517578125e-05         0.763\n",
      "   1.52587890625e-05        0.763\n",
      "   7.62939453125e-06        0.763\n",
      "   3.81469726562e-06        0.763\n",
      "   -----------------------------------\n",
      "   best intercept_scaling : 0.0625\n",
      "\n",
      "For logistic regression intercept_scaling: \n",
      "   C       accuracy\n",
      "   0.1  0.754\n",
      "   0.2  0.755\n",
      "   0.3  0.757\n",
      "   0.4  0.76\n",
      "   0.5  0.763\n",
      "   0.6  0.764\n",
      "   0.7  0.763\n",
      "   0.8  0.766\n",
      "   0.9  0.765\n",
      "   1.0  0.766\n",
      "   1.1  0.767\n",
      "   1.2  0.763\n",
      "   1.3  0.76\n",
      "   1.4  0.759\n",
      "   1.5  0.758\n",
      "   1.6  0.758\n",
      "   1.7  0.757\n",
      "   1.8  0.758\n",
      "   1.9  0.759\n",
      "   2.0  0.759\n",
      "   -----------------------------------\n",
      "   best C : 1.1\n",
      "\n"
     ]
    }
   ],
   "source": [
    "from sklearn.naive_bayes import MultinomialNB\n",
    "from sklearn.linear_model import LogisticRegression\n",
    "\n",
    "trainLabel = [1]*(trainA.shape[0]/2)+[0]*((trainA.shape[0]+1)/2)\n",
    "\n",
    "tempBestAlpha = 0\n",
    "tempBestAccuracy = 0\n",
    "print \"For naive bayes alpha:\"\n",
    "print \"   alpha    accuracy\"\n",
    "for i in range(1,21):\n",
    "    alp = i/float(10)\n",
    "    bayesN = MultinomialNB(alpha=alp, class_prior=None)\n",
    "    bayesN.fit(trainA,np.array(trainLabel))\n",
    "    result =  bayesN.predict(developA)\n",
    "    count = 0\n",
    "    for j in range(developA.shape[0]/2):\n",
    "        if result[j] == 1:\n",
    "            count+=1\n",
    "    for j in range(developA.shape[0]/2,developA.shape[0]):\n",
    "        if result[j] == 0:\n",
    "            count+=1\n",
    "    accuracy = count / float(developA.shape[0])\n",
    "    if accuracy > tempBestAccuracy:\n",
    "        tempBestAlpha = alp\n",
    "        tempBestAccuracy = accuracy\n",
    "    print \"   \"+str(alp)+\"      \"+str(accuracy )\n",
    "print \"   -----------------\"\n",
    "print \"   best alpha = \" + str(tempBestAlpha)\n",
    "print \n",
    "\n",
    "print \"For logistic regression intercept_scaling: \"\n",
    "print \"   intercept_scaling       accuracy\"\n",
    "tempBestInterScal = 0\n",
    "tempBestAccuracy = 0\n",
    "for j in range(20):\n",
    "    inter_scal = 2/float(2**j)\n",
    "    linearL = LogisticRegression(penalty=\"l2\",solver=\"liblinear\",intercept_scaling=inter_scal,max_iter=100,C=1.0)\n",
    "    linearL.fit(trainA,np.array(trainLabel))\n",
    "    result =  linearL.predict(developA)\n",
    "    count = 0\n",
    "    for i in range(developA.shape[0]/2):\n",
    "        if result[i] == 1:\n",
    "            count+=1\n",
    "    for i in range(developA.shape[0]/2,developA.shape[0]):\n",
    "        if result[i] == 0:\n",
    "            count+=1\n",
    "    accuracy = count / float(developA.shape[0])\n",
    "    if accuracy > tempBestAccuracy:\n",
    "        tempBestInterScal = inter_scal\n",
    "        tempBestAccuracy = accuracy\n",
    "    print \"   \"+str(inter_scal)+\"\".join([\" \"]*(25-len(str(inter_scal))))+str(accuracy)\n",
    "print \"   -----------------------------------\"\n",
    "print \"   best intercept_scaling : \"+ str(tempBestInterScal)\n",
    "print \n",
    "\n",
    "\n",
    "print \"For logistic regression intercept_scaling: \"\n",
    "print \"   C       accuracy\"\n",
    "tempBestC = 0\n",
    "tempBestAccuracy = 0\n",
    "for j in range(20):\n",
    "    c = (j+1)/float(10)\n",
    "    linearL = LogisticRegression(penalty=\"l2\",solver=\"liblinear\",intercept_scaling=tempBestInterScal,max_iter=100,C=c)\n",
    "    linearL.fit(trainA,np.array(trainLabel))\n",
    "    result =  linearL.predict(developA)\n",
    "    count = 0\n",
    "    for i in range(developA.shape[0]/2):\n",
    "        if result[i] == 1:\n",
    "            count+=1\n",
    "    for i in range(developA.shape[0]/2,developA.shape[0]):\n",
    "        if result[i] == 0:\n",
    "            count+=1\n",
    "    accuracy = count / float(developA.shape[0])\n",
    "    if accuracy > tempBestAccuracy:\n",
    "        tempBestC = c\n",
    "        tempBestAccuracy = accuracy\n",
    "    print \"   \"+str(c)+\"  \"+str(accuracy)\n",
    "print \"   -----------------------------------\"\n",
    "print \"   best C : \"+ str(tempBestC)\n",
    "print \n"
   ]
  },
  {
   "cell_type": "markdown",
   "metadata": {},
   "source": [
    "<b>Instructions</b>: Using the best settings you have found, compare the two classifiers based on performance in the test set. Print out both accuracy and macroaveraged f-score for each classifier. Be sure to label your output. (0.5)"
   ]
  },
  {
   "cell_type": "code",
   "execution_count": 52,
   "metadata": {},
   "outputs": [
    {
     "name": "stdout",
     "output_type": "stream",
     "text": [
      "For naive bayes : \n",
      "             precision    recall  f1-score   support\n",
      "\n",
      "          0       0.73      0.80      0.77       500\n",
      "          1       0.78      0.71      0.74       500\n",
      "\n",
      "avg / total       0.76      0.76      0.75      1000\n",
      "\n",
      "\n",
      "For logistic regression : \n",
      "             precision    recall  f1-score   support\n",
      "\n",
      "          0       0.75      0.79      0.77       500\n",
      "          1       0.78      0.74      0.76       500\n",
      "\n",
      "avg / total       0.77      0.77      0.77      1000\n",
      "\n"
     ]
    }
   ],
   "source": [
    "print \"For naive bayes : \"\n",
    "from sklearn.metrics import classification_report\n",
    "bayesN = MultinomialNB(alpha=tempBestAlpha, class_prior=None)\n",
    "bayesN.fit(trainA,np.array(trainLabel))\n",
    "result =  bayesN.predict(developA)\n",
    "count = 0\n",
    "for j in range(testA.shape[0]/2):\n",
    "    if result[j] == 1:\n",
    "        count+=1\n",
    "for j in range(testA.shape[0]/2,testA.shape[0]):\n",
    "    if result[j] == 0:\n",
    "        count+=1\n",
    "\n",
    "print classification_report([1]*(testA.shape[0]/2)+[0]*(testA.shape[0]/2),result)\n",
    "print \n",
    "\n",
    "print \"For logistic regression : \"\n",
    "linearL = LogisticRegression(penalty=\"l2\",solver=\"liblinear\",intercept_scaling=tempBestInterScal,max_iter=100,C=tempBestC)\n",
    "linearL.fit(trainA,np.array(trainLabel))\n",
    "result =  linearL.predict(developA)\n",
    "count = 0\n",
    "for j in range(testA.shape[0]/2):\n",
    "    if result[j] == 1:\n",
    "        count+=1\n",
    "for j in range(testA.shape[0]/2,testA.shape[0]):\n",
    "    if result[j] == 0:\n",
    "        count+=1\n",
    "\n",
    "print classification_report([1]*(testA.shape[0]/2)+[0]*(testA.shape[0]/2),result)\n",
    "\n",
    "\n"
   ]
  },
  {
   "cell_type": "code",
   "execution_count": null,
   "metadata": {},
   "outputs": [],
   "source": []
  },
  {
   "cell_type": "code",
   "execution_count": null,
   "metadata": {},
   "outputs": [],
   "source": []
  },
  {
   "cell_type": "code",
   "execution_count": null,
   "metadata": {},
   "outputs": [],
   "source": []
  }
 ],
 "metadata": {
  "anaconda-cloud": {},
  "kernelspec": {
   "display_name": "Python 2",
   "language": "python",
   "name": "python2"
  },
  "language_info": {
   "codemirror_mode": {
    "name": "ipython",
    "version": 2
   },
   "file_extension": ".py",
   "mimetype": "text/x-python",
   "name": "python",
   "nbconvert_exporter": "python",
   "pygments_lexer": "ipython2",
   "version": "2.7.13"
  }
 },
 "nbformat": 4,
 "nbformat_minor": 1
}
