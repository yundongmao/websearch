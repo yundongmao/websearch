{
 "cells": [
  {
   "cell_type": "markdown",
   "metadata": {},
   "source": [
    "# *N*-gram Language Models"
   ]
  },
  {
   "cell_type": "markdown",
   "metadata": {},
   "source": [
    "In this notebook, we'll be building bigram *n*-gram language models from scratch. The first part of building a language model is collecting counts from corpora. We'll do some preprocessing first, by lowercasing everything and add `<s>` (start) and `</s>` (end) symbols at the beginning and end of each sentence. For bigrams, we are using dictionaries of dictionaries with the strings as keys, which is a convenient though not particularly memory efficient way to represent things. We will use the unigram counts later for doing smoothing."
   ]
  },
  {
   "cell_type": "code",
   "execution_count": null,
   "metadata": {
    "scrolled": true
   },
   "outputs": [],
   "source": [
    "from collections import defaultdict\n",
    "from collections import Counter\n",
    "\n",
    "\n",
    "def convert_sentence(sentence):\n",
    "    return [\"<s>\"] + [w.lower() for w in sentence] + [\"</s>\"]\n",
    "\n",
    "def get_counts(sentences):\n",
    "    bigram_counts = defaultdict(Counter)\n",
    "    unigram_counts = Counter()\n",
    "\n",
    "    # collect initial unigram statistics\n",
    "    for sentence in sentences:\n",
    "        sentence = convert_sentence(sentence)\n",
    "        for word in sentence:\n",
    "            unigram_counts[word] += 1\n",
    "        unigram_counts[\"</s>\"] += 1\n",
    "\n",
    "    # collect bigram counts\n",
    "    for sentence in sentences:\n",
    "        sentence = convert_sentence(sentence)\n",
    "        # generate a list of bigrams\n",
    "        bigram_list = zip(sentence[:-1], sentence[1:])\n",
    "        # iterate over bigrams\n",
    "        for bigram in bigram_list:\n",
    "            first, second = bigram\n",
    "            bigram_counts[first][second] += 1\n",
    "            \n",
    "    token_count = float(sum(unigram_counts.values()))\n",
    "    return unigram_counts, bigram_counts, token_count"
   ]
  },
  {
   "cell_type": "markdown",
   "metadata": {},
   "source": [
    "Once we have counts, we can use them to generate sentences. Here we use [numpy.random.choice](http://docs.scipy.org/doc/numpy-dev/reference/generated/numpy.random.choice.html), which allows us to randomly choose from a list based on a corresponding list of probabilities, which we calculate by normalizing the raw counts. We start with &lt;s&gt;, and generate the next word given the bigram counts which begin with &lt;s&gt;, and then use that word to generate the next word, etc. It stops when it generates an &lt;/s&gt;. We return a string with some fixes to make the sentence look a proper sentence."
   ]
  },
  {
   "cell_type": "code",
   "execution_count": null,
   "metadata": {
    "scrolled": true
   },
   "outputs": [],
   "source": [
    "from numpy.random import choice \n",
    "\n",
    "def generate_sentence(bigram_counts):\n",
    "    current_word = \"<s>\"\n",
    "    sentence = [current_word]\n",
    "    while current_word != \"</s>\":\n",
    "        # get counts for previous word\n",
    "        prev_word = sentence[-1]\n",
    "        prev_word_counts = bigram_counts[prev_word]\n",
    "        # obtain bigram probability distribution given the previous word\n",
    "        bigram_probs = []\n",
    "        total_counts = float(sum(prev_word_counts.values()))\n",
    "        for word in prev_word_counts:\n",
    "            bigram_probs.append(prev_word_counts[word] / total_counts)\n",
    "        # sample the next word\n",
    "        current_word = choice(prev_word_counts.keys(), p=bigram_probs)\n",
    "        sentence.append(current_word)\n",
    "\n",
    "    # get rid of start and end of sentence tokens\n",
    "    sentence = \" \".join(sentence[1:-1])\n",
    "    return sentence\n",
    "        \n",
    "            "
   ]
  },
  {
   "cell_type": "markdown",
   "metadata": {},
   "source": [
    "Now let's try out our *n*-gram driven sentence generator on samples from two corpora: the Penn Treebank, and some out-of-copyright English literature from Project Gutenberg:"
   ]
  },
  {
   "cell_type": "code",
   "execution_count": null,
   "metadata": {
    "scrolled": false
   },
   "outputs": [],
   "source": [
    "from nltk.corpus import gutenberg, treebank\n",
    "\n",
    "gutenberg_unigrams, gutenberg_bigrams, gutenberg_token_count = get_counts(gutenberg.sents())\n",
    "print \"Gutenberg\"\n",
    "for i in range(1,6):\n",
    "    print \"Sentence %d\" % i \n",
    "    print generate_sentence(gutenberg_bigrams)\n",
    "    \n",
    "treebank_unigrams, treebank_bigrams, treebank_token_count = get_counts(treebank.sents())\n",
    "print \"Treebank\"\n",
    "for i in range(1,6):\n",
    "    print \"Sentence %d\" % i \n",
    "    print generate_sentence(treebank_bigrams)"
   ]
  },
  {
   "cell_type": "markdown",
   "metadata": {},
   "source": [
    "Generally, we can see some local coherence but most of these sentences are complete nonsense. Across the two corpora, the sentences are noticeably different, it's very obvious that the model from Project Gutenberg is trained on literature, whereas the Penn Treebank data is financial. For the latter, there are some strange tokens (those starting with \\*) we should probably have filtered out.\n",
    "\n",
    "Using language models to generate sentences is fun but not very useful. A more practical application is the ability to assign a probability to a sentence. In order to do that for anything but toy examples, however, we will need to smooth our models so it doesn't assign a zero probability to the sentence whenever it sees a bigram. Here, we'll test two fairly simple smoothing techniques, add-*k* smoothing and interpolated smoothing. In both cases, we will calculate the log probability, to avoid working with very small numbers. The functions below give the probability for a single word at index i in a sentence.\n",
    "\n",
    "Notice that interpolation is implemented using 3 probabilities: the bigram, the unigram and a \"zerogram\" probability. The \"zerogram\" actually refers to the probability of any word appearing. We need this extra probability in order to account for out-of-vocabulary (OOVs) words, which result in zero probability for both bigrams and unigrams. Estimating the probability of OOVs is a general problem: here we use an heuristic that uses a uniform distribution over all words in the vocabulary (1 / |V|)."
   ]
  },
  {
   "cell_type": "code",
   "execution_count": null,
   "metadata": {
    "scrolled": false
   },
   "outputs": [],
   "source": [
    "import math\n",
    "\n",
    "def get_log_prob_addk(prev_word, word, unigram_counts, bigram_counts, k):\n",
    "    sm_bigram_counts = bigram_counts[prev_word][word] + k\n",
    "    sm_unigram_counts = unigram_counts[prev_word] + k*len(unigram_counts)\n",
    "    return math.log(sm_bigram_counts / sm_unigram_counts)\n",
    "\n",
    "def get_log_prob_interp(prev_word, word, unigram_counts, bigram_counts, token_count, lambdas):\n",
    "    bigram_lambda = lambdas[0]\n",
    "    unigram_lambda = lambdas[1]\n",
    "    zerogram_lambda = 1 - lambdas[0] - lambdas[1]\n",
    "    \n",
    "    # start by getting bigram probability\n",
    "    sm_bigram_counts = bigram_counts[prev_word][word] * bigram_lambda\n",
    "    if sm_bigram_counts == 0.0:\n",
    "        interp_bigram_counts = 0\n",
    "    else:\n",
    "        interp_bigram_counts = sm_bigram_counts / float(unigram_counts[prev_word])\n",
    "        \n",
    "    # unigram probability\n",
    "    interp_unigram_counts = (unigram_counts[word] / token_count) * unigram_lambda\n",
    "    \n",
    "    # \"zerogram\" probability: this is to account for out-of-vocabulary words\n",
    "    # this is just 1 / |V|\n",
    "    vocab_size = len(unigram_counts)\n",
    "    interp_zerogram_counts = (1 / float(vocab_size)) * zerogram_lambda\n",
    "    \n",
    "    return math.log(interp_bigram_counts + interp_unigram_counts + interp_zerogram_counts)\n"
   ]
  },
  {
   "cell_type": "markdown",
   "metadata": {},
   "source": [
    "Extending this to calculate the probability of an entire sentence is trivial."
   ]
  },
  {
   "cell_type": "code",
   "execution_count": null,
   "metadata": {
    "scrolled": true
   },
   "outputs": [],
   "source": [
    "def get_sent_log_prob_addk(sentence, unigram_counts, bigram_counts, token_count, k):\n",
    "    sentence = convert_sentence(sentence)\n",
    "    bigram_list = zip(sentence[:-1], sentence[1:])\n",
    "    return sum([get_log_prob_addk(prev_word, \n",
    "                                  word, \n",
    "                                  unigram_counts, \n",
    "                                  bigram_counts, \n",
    "                                  k) for prev_word, word in bigram_list])\n",
    "\n",
    "def get_sent_log_prob_interp(sentence, unigram_counts, bigram_counts, token_count, lambdas):\n",
    "    sentence = convert_sentence(sentence)\n",
    "    bigram_list = zip(sentence[:-1], sentence[1:])\n",
    "    return sum([get_log_prob_interp(prev_word, \n",
    "                                    word, \n",
    "                                    unigram_counts, \n",
    "                                    bigram_counts, \n",
    "                                    token_count, \n",
    "                                    lambdas) for prev_word, word in bigram_list])\n",
    "    \n",
    "sentence = \"revenue increased last quarter .\".split()\n",
    "print get_sent_log_prob_addk(sentence, gutenberg_unigrams, gutenberg_bigrams, gutenberg_token_count, 0.05)\n",
    "print get_sent_log_prob_interp(sentence, gutenberg_unigrams, gutenberg_bigrams, gutenberg_token_count, (0.8, 0.19))\n",
    "print get_sent_log_prob_addk(sentence, treebank_unigrams, treebank_bigrams, treebank_token_count, 0.05)\n",
    "print get_sent_log_prob_interp(sentence, treebank_unigrams, treebank_bigrams, treebank_token_count, (0.8, 0.19))"
   ]
  },
  {
   "cell_type": "markdown",
   "metadata": {},
   "source": [
    "The output for our sample sentence looks reasonable, in particular using the Treebank model results in a noticeably higher probability, which is what we'd expect given the input sentence. The differences in probability between the different smoothing techniques is more modest (though keep in mind this is a logrithmic scale). Now, let's use perplexity to evaluate different smoothing techniques at the level of the corpus. For this, we'll use the Brown corpus again, dividing it up randomly into a training set and a test set based on an 80/20 split."
   ]
  },
  {
   "cell_type": "code",
   "execution_count": null,
   "metadata": {
    "scrolled": true
   },
   "outputs": [],
   "source": [
    "from nltk.corpus import brown\n",
    "from random import shuffle\n",
    "\n",
    "sents = list(brown.sents())\n",
    "shuffle(sents)\n",
    "cutoff = int(0.8*len(sents))\n",
    "training_set = sents[:cutoff]\n",
    "test_set = [[word.lower() for word in sent] for sent in sents[cutoff:]]\n",
    "\n",
    "brown_unigrams, brown_bigrams, brown_token_count = get_counts(training_set)"
   ]
  },
  {
   "cell_type": "markdown",
   "metadata": {},
   "source": [
    "Since our probabilities are in log space, we will calculate perplexity in log space as well, then take the exponential at the end\n",
    "\n",
    "$PP(W) = \\sqrt[m]{\\frac{1}{P(W)}}$\n",
    "\n",
    "$\\log{PP(W)} = -\\frac{1}{m} \\log{P(W)}$"
   ]
  },
  {
   "cell_type": "code",
   "execution_count": null,
   "metadata": {
    "scrolled": true
   },
   "outputs": [],
   "source": [
    "def calculate_perplexity(sentences, unigram_counts, bigram_counts, token_count, smoothing_function, parameter):\n",
    "    total_log_prob = 0\n",
    "    test_token_count = 0\n",
    "    for sentence in sentences:\n",
    "        test_token_count += len(sentence) + 1 # have to consider the end token\n",
    "        total_log_prob += smoothing_function(sentence,\n",
    "                                             unigram_counts,\n",
    "                                             bigram_counts,\n",
    "                                             token_count,\n",
    "                                             parameter)\n",
    "    return math.exp(-total_log_prob / test_token_count)\n",
    "\n",
    "                "
   ]
  },
  {
   "cell_type": "markdown",
   "metadata": {
    "collapsed": true
   },
   "source": [
    "Let's see how our two smoothing techniques do with a range of possible parameter values "
   ]
  },
  {
   "cell_type": "code",
   "execution_count": null,
   "metadata": {
    "scrolled": true
   },
   "outputs": [],
   "source": [
    "print \"add k\"\n",
    "for k in [0.0001,0.001,0.01, 0.05,0.2,1.0]:\n",
    "    print k\n",
    "    print calculate_perplexity(test_set,brown_unigrams,brown_bigrams,brown_token_count,get_sent_log_prob_addk,k)\n",
    "print \"interpolation\"\n",
    "for bigram_lambda in [0.98,0.95,0.75,0.5,0.25,0.001]:\n",
    "    unigram_lambda = 0.99 - bigram_lambda\n",
    "    lambdas = (bigram_lambda, unigram_lambda)\n",
    "    print lambdas \n",
    "    print calculate_perplexity(test_set, \n",
    "                               brown_unigrams, \n",
    "                               brown_bigrams, \n",
    "                               brown_token_count, \n",
    "                               get_sent_log_prob_interp, \n",
    "                               lambdas)   "
   ]
  },
  {
   "cell_type": "markdown",
   "metadata": {},
   "source": [
    "Our results indicate that, with regards to perplexity, interpolation is generally better than add k. Very low (though not too low) k is preferred for add k, wheres our best lambdas is in the middle of the range, though apparently with a small preference for more weight on the bigram probability, which makes sense.\n",
    "\n",
    "From the basis given here, you can try playing around with some of the other corpora in NLTK and see if you get similar results. You could also implement a trigram model, or another kind of smoothing, to see if you can get better perplexity scores."
   ]
  },
  {
   "cell_type": "code",
   "execution_count": null,
   "metadata": {},
   "outputs": [],
   "source": []
  }
 ],
 "metadata": {
  "kernelspec": {
   "display_name": "Python 2",
   "language": "python",
   "name": "python2"
  },
  "language_info": {
   "codemirror_mode": {
    "name": "ipython",
    "version": 2
   },
   "file_extension": ".py",
   "mimetype": "text/x-python",
   "name": "python",
   "nbconvert_exporter": "python",
   "pygments_lexer": "ipython2",
   "version": "2.7.14"
  }
 },
 "nbformat": 4,
 "nbformat_minor": 1
}
