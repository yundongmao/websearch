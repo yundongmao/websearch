{
 "cells": [
  {
   "cell_type": "markdown",
   "metadata": {},
   "source": [
    "# Distributional Semantics\n"
   ]
  },
  {
   "cell_type": "markdown",
   "metadata": {},
   "source": [
    "For this notebook, we'll be using the 500 document Brown corpus included in NLTK"
   ]
  },
  {
   "cell_type": "code",
   "execution_count": null,
   "metadata": {
    "collapsed": true
   },
   "outputs": [],
   "source": [
    "from nltk.corpus import brown"
   ]
  },
  {
   "cell_type": "markdown",
   "metadata": {},
   "source": [
    "This notebook is divided up into two independent parts: the first uses PMI for distinguishing good collocations, and the second involves building a vector space model for document retrieval.\n",
    "\n",
    "For the PMI portion, we'll use a function which extracts the information we need for a particular two word collocation, namely counts of each word individually, counts of the collocation, and the total number of word tokens in the corpus, and then calculates the PMI:"
   ]
  },
  {
   "cell_type": "code",
   "execution_count": null,
   "metadata": {
    "collapsed": true
   },
   "outputs": [],
   "source": [
    "import math\n",
    "\n",
    "def get_PMI_for_collocation_brown(word1,word2):\n",
    "    word1_count = 0\n",
    "    word2_count = 0\n",
    "    both_count = 0\n",
    "    total_count = 0.0 # so that division results in a float\n",
    "    for sent in brown.sents():\n",
    "        sent = [word.lower() for word in sent]\n",
    "        for i in range(len(sent)):\n",
    "            total_count += 1\n",
    "            if sent[i] == word1:\n",
    "                word1_count += 1\n",
    "                if i < len(sent) - 1 and sent[i + 1] == word2:\n",
    "                    both_count += 1\n",
    "            elif sent[i] == word2:\n",
    "                word2_count += 1\n",
    "    return math.log((both_count/total_count)/((word1_count/total_count)*(word2_count/total_count)), 2)\n",
    "                \n",
    "        "
   ]
  },
  {
   "cell_type": "markdown",
   "metadata": {},
   "source": [
    "Note that in a typical use case, we probably wouldn't do it this way, since we'd likely want to calculate PMI across many different words, and collecting the statisitcs for this can be done in a single pass across the corpus for all words, and then the PMI calculated in a separate function. Anyway, let's compare the PMI for two phrases, \"hard work\" and \"some work\""
   ]
  },
  {
   "cell_type": "code",
   "execution_count": null,
   "metadata": {
    "collapsed": false
   },
   "outputs": [],
   "source": [
    "print get_PMI_for_collocation_brown(\"hard\",\"work\")\n",
    "print get_PMI_for_collocation_brown(\"some\",\"work\")"
   ]
  },
  {
   "cell_type": "markdown",
   "metadata": {},
   "source": [
    "Based on PMI, \"hard work\" appears to be a much better collocation than \"some work\", which matches our intuition. Go ahead and try out this out some other collocations. "
   ]
  },
  {
   "cell_type": "markdown",
   "metadata": {},
   "source": [
    "For the second part of the notebook, let's create a sparse document-term matrix, using sci-kit learn. We will do a document-term matrix rather than term-document because we will be performing SVD dimensionality reduction to produce dense document representations for document retrevial. Note that this is actually identical to creating a BOW feature representation for each document; the difference comes in how we used the representation. "
   ]
  },
  {
   "cell_type": "code",
   "execution_count": null,
   "metadata": {
    "collapsed": false
   },
   "outputs": [],
   "source": [
    "from sklearn.feature_extraction import DictVectorizer\n",
    "\n",
    "def get_BOW(text):\n",
    "    BOW = {}\n",
    "    for word in text:\n",
    "        BOW[word.lower()] = BOW.get(word.lower(),0) + 1\n",
    "    return BOW\n",
    "\n",
    "texts = []\n",
    "for fileid in brown.fileids():\n",
    "    texts.append(get_BOW(brown.words(fileid)))\n",
    "\n",
    "vectorizer = DictVectorizer()\n",
    "brown_matrix = vectorizer.fit_transform(texts)\n",
    "print brown_matrix\n"
   ]
  },
  {
   "cell_type": "markdown",
   "metadata": {},
   "source": [
    "Our matrix is sparse: for instance, columns 0-48 in row 0 are empty, and are just left out, only the rows and columns with values other than zeros are displayed\n",
    "\n",
    "Rather than removing stopwords as we did for text classification, let's add some idf weighting to this matrix. Scikit-learn has a built-in tf-idf transformer for just this purpose."
   ]
  },
  {
   "cell_type": "code",
   "execution_count": null,
   "metadata": {
    "collapsed": false
   },
   "outputs": [],
   "source": [
    "from sklearn.feature_extraction.text import TfidfTransformer\n",
    "\n",
    "transformer = TfidfTransformer(smooth_idf=False,norm=None)\n",
    "\n",
    "brown_matrix = transformer.fit_transform(brown_matrix)\n",
    "\n",
    "print brown_matrix"
   ]
  },
  {
   "cell_type": "markdown",
   "metadata": {},
   "source": [
    "Next, let's apply SVD. Scikit-learn does not expose the internal details of the decomposition, we just use the TruncatedSVD class directly get a matrix with k dimensions. Since the Brown corpus is a fairly small corpus, we'll do k=100"
   ]
  },
  {
   "cell_type": "code",
   "execution_count": null,
   "metadata": {
    "collapsed": false
   },
   "outputs": [],
   "source": [
    "from sklearn.decomposition import TruncatedSVD\n",
    "\n",
    "svd = TruncatedSVD(n_components=100)\n",
    "brown_matrix = svd.fit_transform(brown_matrix)\n",
    "\n",
    "print brown_matrix"
   ]
  },
  {
   "cell_type": "markdown",
   "metadata": {},
   "source": [
    "Note that this matrix is not sparse.\n",
    "\n",
    "The last thing we'll do is build a very simple document retrevial system based on the vector space model we've built: it will take some query input, apply all the transformations we have defined above, then find the Brown document with the highest cosine similarity to the query document. Here we are using scipy's cosine distance function; we actually find the smallest distance instead of the largest similarity."
   ]
  },
  {
   "cell_type": "code",
   "execution_count": null,
   "metadata": {
    "collapsed": true
   },
   "outputs": [],
   "source": [
    "from scipy.spatial.distance import cosine as cos_distance\n",
    "\n",
    "def transform_query(query_text):\n",
    "    return svd.transform(transformer.transform(vectorizer.transform([get_BOW(query_text.split())])))[0]\n",
    "\n",
    "def get_best_doc_num(query):\n",
    "    f = lambda x: cos_distance(query,brown_matrix[x])\n",
    "    best_doc = min(range(500),key=f)\n",
    "    return best_doc"
   ]
  },
  {
   "cell_type": "markdown",
   "metadata": {},
   "source": [
    "Let's test this out with a couple of sets of key words, with the idea of getting a religious text in the first example, and a mathematics text in the second (the Brown corpus has both). We'll also look at the specific vectors and distances involved."
   ]
  },
  {
   "cell_type": "code",
   "execution_count": null,
   "metadata": {
    "collapsed": false
   },
   "outputs": [],
   "source": [
    "def try_query(query_text):\n",
    "    query = transform_query(query_text)\n",
    "    doc_num = get_best_doc_num(query)\n",
    "    print \"query text\"\n",
    "    print query_text\n",
    "    print \"query vector\"\n",
    "    print query\n",
    "    print \"best document vector\"\n",
    "    print brown_matrix[doc_num]\n",
    "    print \"cosine distance from query to document\"\n",
    "    print cos_distance(query,brown_matrix[doc_num])\n",
    "    print \"best document sample\"\n",
    "    print brown.words(brown.fileids()[doc_num])[:50]\n",
    "\n",
    "try_query(\"heaven hell devil lord\")\n",
    "try_query(\"matrix algebra eigenvalue\")"
   ]
  }
 ],
 "metadata": {
  "kernelspec": {
   "display_name": "Python 2",
   "language": "python",
   "name": "python2"
  },
  "language_info": {
   "codemirror_mode": {
    "name": "ipython",
    "version": 2
   },
   "file_extension": ".py",
   "mimetype": "text/x-python",
   "name": "python",
   "nbconvert_exporter": "python",
   "pygments_lexer": "ipython2",
   "version": "2.7.10"
  }
 },
 "nbformat": 4,
 "nbformat_minor": 0
}
